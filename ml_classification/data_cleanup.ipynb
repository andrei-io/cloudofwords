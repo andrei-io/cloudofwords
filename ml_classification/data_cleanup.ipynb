{
 "cells": [
  {
   "cell_type": "code",
   "id": "initial_id",
   "metadata": {
    "collapsed": true,
    "ExecuteTime": {
     "end_time": "2025-03-15T20:30:23.846305Z",
     "start_time": "2025-03-15T20:30:23.700562Z"
    }
   },
   "source": [
    "import pandas as pd\n",
    "\n",
    "cordis_df = pd.read_excel('../input/Cordis_input.xlsx', usecols=['objective'])\n",
    "cordis_df = cordis_df.rename(columns={'objective': 'text'})\n",
    "cordis_df['label'] = 'cordis'\n",
    "cordis_df.to_csv('training_data.csv', index=False)"
   ],
   "outputs": [],
   "execution_count": 17
  },
  {
   "metadata": {
    "ExecuteTime": {
     "end_time": "2025-03-15T20:30:23.915478Z",
     "start_time": "2025-03-15T20:30:23.851220Z"
    }
   },
   "cell_type": "code",
   "source": [
    "crunch_df = pd.read_excel('../input/Crunchbase_input.xlsx', usecols=['Full Description'])\n",
    "crunch_df = crunch_df.rename(columns={'Full Description': 'text'})\n",
    "crunch_df['label'] = 'crunchbase'\n",
    "crunch_df.to_csv('training_data.csv', mode='a', index=False, header=False)"
   ],
   "id": "12908e3a4442be32",
   "outputs": [],
   "execution_count": 18
  },
  {
   "metadata": {
    "ExecuteTime": {
     "end_time": "2025-03-15T20:30:24.443592Z",
     "start_time": "2025-03-15T20:30:23.923734Z"
    }
   },
   "cell_type": "code",
   "source": [
    "wipo_df = pd.read_excel('../input/WIPO_input.xlsx', usecols=['Abstract'])\n",
    "wipo_df = wipo_df.rename(columns={'Abstract': 'text'})\n",
    "wipo_df['label'] = 'wipo'\n",
    "wipo_df.to_csv('training_data.csv', mode='a', index=False, header=False)"
   ],
   "id": "1bdaebe6b10b7446",
   "outputs": [],
   "execution_count": 19
  },
  {
   "metadata": {
    "ExecuteTime": {
     "end_time": "2025-03-15T20:30:26.853072Z",
     "start_time": "2025-03-15T20:30:24.455765Z"
    }
   },
   "cell_type": "code",
   "source": [
    "wos_df = pd.read_excel('../input/WOS_input.xlsx', usecols=['Abstract'])\n",
    "wos_df = wos_df.rename(columns={'Abstract': 'text'})\n",
    "wos_df['label'] = 'wos'\n",
    "wos_df.to_csv('training_data.csv', mode='a', index=False, header=False)"
   ],
   "id": "b8143ab5a2aadd7d",
   "outputs": [],
   "execution_count": 20
  },
  {
   "metadata": {
    "ExecuteTime": {
     "end_time": "2025-03-15T20:30:27.929075Z",
     "start_time": "2025-03-15T20:30:26.863553Z"
    }
   },
   "cell_type": "code",
   "source": [
    "import pandas as pd\n",
    "\n",
    "# Read the data from training_data.csv\n",
    "data_df = pd.read_csv('training_data.csv')\n",
    "\n",
    "# Function to count words in a text\n",
    "def word_count(text):\n",
    "    if type(text) == str:\n",
    "        return len(text.split())\n",
    "    return 0\n",
    "\n",
    "# Filter out rows with less than 10 words in the text column\n",
    "data_df = data_df[data_df['text'].apply(word_count) >= 10]\n",
    "\n",
    "# Save the cleaned data back to training_data.csv\n",
    "data_df.to_csv('training_data.csv', index=False)"
   ],
   "id": "cb85a356c2f1f589",
   "outputs": [],
   "execution_count": 21
  },
  {
   "metadata": {
    "ExecuteTime": {
     "end_time": "2025-03-15T20:30:27.939688Z",
     "start_time": "2025-03-15T20:30:27.938174Z"
    }
   },
   "cell_type": "code",
   "source": "",
   "id": "5530d0f126f8a2a8",
   "outputs": [],
   "execution_count": null
  }
 ],
 "metadata": {
  "kernelspec": {
   "display_name": "Python 3",
   "language": "python",
   "name": "python3"
  },
  "language_info": {
   "codemirror_mode": {
    "name": "ipython",
    "version": 2
   },
   "file_extension": ".py",
   "mimetype": "text/x-python",
   "name": "python",
   "nbconvert_exporter": "python",
   "pygments_lexer": "ipython2",
   "version": "2.7.6"
  }
 },
 "nbformat": 4,
 "nbformat_minor": 5
}
