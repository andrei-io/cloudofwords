{
 "cells": [
  {
   "cell_type": "code",
   "id": "initial_id",
   "metadata": {
    "collapsed": true,
    "ExecuteTime": {
     "end_time": "2025-03-27T16:35:56.132727Z",
     "start_time": "2025-03-27T16:35:55.566132Z"
    }
   },
   "source": [
    "from sklearn.metrics import accuracy_score\n",
    "import joblib\n",
    "\n",
    "# Load the model\n",
    "pipeSVC = joblib.load('model_svc.pkl')\n",
    "# pipeCNB = joblib.load('model_cnb.pkl')\n",
    "# pipeMNB = joblib.load('model_mnb.pkl')"
   ],
   "outputs": [],
   "execution_count": 1
  },
  {
   "metadata": {
    "ExecuteTime": {
     "end_time": "2025-03-27T16:35:57.249789Z",
     "start_time": "2025-03-27T16:35:56.139424Z"
    }
   },
   "cell_type": "code",
   "source": [
    "# read data from data_input/wos_AI_agriculture.csv\n",
    "import pandas as pd\n",
    "import xlrd\n",
    "\n",
    "df_AI_Agriculture = pd.read_excel('data_input/wos_AI_agriculture.xls')\n",
    "df_AI = pd.read_excel('data_input/wos_AI.xls')\n",
    "df_agriculture = pd.read_excel('data_input/wos_agriculture_multidisciplinar.xls')\n",
    "df_general = pd.read_excel('data_input/wos_general.xlsx')"
   ],
   "id": "e51349fb9436de98",
   "outputs": [],
   "execution_count": 2
  },
  {
   "metadata": {
    "ExecuteTime": {
     "end_time": "2025-03-27T16:35:57.412078Z",
     "start_time": "2025-03-27T16:35:57.405646Z"
    }
   },
   "cell_type": "code",
   "source": [
    "# Predict the labels\n",
    "X_AI_agriculture = df_AI_Agriculture.loc[df_AI_Agriculture['Abstract'].apply(lambda x: isinstance(x, str) and x.strip() != ''), 'Abstract']\n",
    "Y_AI_agriculture = ['wos' for i in range(len(X_AI_agriculture))]\n",
    "\n",
    "X_AI = df_AI.loc[df_AI['Abstract'].apply(lambda x: isinstance(x, str) and x.strip() != ''), 'Abstract']\n",
    "Y_AI = ['wos' for i in range(len(X_AI))]\n",
    "\n",
    "X_agriculture = df_agriculture.loc[df_agriculture['Abstract'].apply(lambda x: isinstance(x, str) and x.strip() != ''), 'Abstract']\n",
    "Y_agriculture = ['wos' for i in range(len(X_agriculture))]\n",
    "\n",
    "X_general = df_general.loc[df_general['Abstract'].apply(lambda x: isinstance(x, str) and x.strip() != ''), 'Abstract']\n",
    "Y_general = ['wos' for i in range(len(X_general))]"
   ],
   "id": "7a7a14a6c8f26224",
   "outputs": [],
   "execution_count": 3
  },
  {
   "metadata": {
    "ExecuteTime": {
     "end_time": "2025-03-27T16:35:57.784965Z",
     "start_time": "2025-03-27T16:35:57.492266Z"
    }
   },
   "cell_type": "code",
   "source": [
    "predict_svc_AI_agriculture = pipeSVC.predict(X_AI_agriculture)\n",
    "\n",
    "predict_svc_AI = pipeSVC.predict(X_AI)\n",
    "\n",
    "predict_scv_agriculture = pipeSVC.predict(X_agriculture)\n",
    "\n",
    "predict_svc_general = pipeSVC.predict(X_general)\n",
    "\n",
    "\n",
    "# Print accuracy scores for every file, every model\n",
    "\n",
    "print('Accuracy SVC AI:', accuracy_score(Y_AI, predict_svc_AI))\n",
    "\n",
    "print('Accuracy SVC agriculture:', accuracy_score(Y_agriculture, predict_scv_agriculture))\n",
    "\n",
    "print('Accuracy SVC general:', accuracy_score(Y_general, predict_svc_general))"
   ],
   "id": "4d87d9d2f9c71dd3",
   "outputs": [
    {
     "name": "stdout",
     "output_type": "stream",
     "text": [
      "Accuracy SVC AI: 0.9836734693877551\n",
      "Accuracy SVC agriculture: 0.9361022364217252\n",
      "Accuracy SVC general: 0.9618556701030928\n"
     ]
    }
   ],
   "execution_count": 4
  }
 ],
 "metadata": {
  "kernelspec": {
   "display_name": "Python 3",
   "language": "python",
   "name": "python3"
  },
  "language_info": {
   "codemirror_mode": {
    "name": "ipython",
    "version": 2
   },
   "file_extension": ".py",
   "mimetype": "text/x-python",
   "name": "python",
   "nbconvert_exporter": "python",
   "pygments_lexer": "ipython2",
   "version": "2.7.6"
  }
 },
 "nbformat": 4,
 "nbformat_minor": 5
}
