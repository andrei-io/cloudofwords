{
 "cells": [
  {
   "cell_type": "code",
   "id": "initial_id",
   "metadata": {
    "collapsed": true,
    "ExecuteTime": {
     "end_time": "2025-03-25T18:07:23.822342Z",
     "start_time": "2025-03-25T18:07:23.436866Z"
    }
   },
   "source": [
    "import pandas as pd\n",
    "\n",
    "df_unbalanced = pd.read_csv('data_input/training_data.csv')\n",
    "\n",
    "df = df_unbalanced.groupby('label', group_keys=False).apply(\n",
    "    lambda x: x.sample(n=min(len(x), 900), random_state=19)\n",
    ").reset_index(drop=True)  # Reset index to remove unwanted artifacts\n",
    "\n",
    "# Explicitly keep only the original columns to ensure structure is intact\n",
    "df = df[df_unbalanced.columns]\n"
   ],
   "outputs": [
    {
     "name": "stderr",
     "output_type": "stream",
     "text": [
      "/tmp/ipykernel_196847/2956980612.py:5: DeprecationWarning: DataFrameGroupBy.apply operated on the grouping columns. This behavior is deprecated, and in a future version of pandas the grouping columns will be excluded from the operation. Either pass `include_groups=False` to exclude the groupings or explicitly select the grouping columns after groupby to silence this warning.\n",
      "  df = df_unbalanced.groupby('label', group_keys=False).apply(\n"
     ]
    }
   ],
   "execution_count": 4
  },
  {
   "metadata": {
    "ExecuteTime": {
     "end_time": "2025-03-25T18:07:28.898901Z",
     "start_time": "2025-03-25T18:07:28.890886Z"
    }
   },
   "cell_type": "code",
   "source": [
    "X = df['text']\n",
    "y = df['label']\n",
    "len(X)"
   ],
   "id": "3e8274a8e8a18250",
   "outputs": [
    {
     "data": {
      "text/plain": [
       "2996"
      ]
     },
     "execution_count": 5,
     "metadata": {},
     "output_type": "execute_result"
    }
   ],
   "execution_count": 5
  },
  {
   "metadata": {
    "ExecuteTime": {
     "end_time": "2025-03-19T09:00:39.760009Z",
     "start_time": "2025-03-19T09:00:39.368480Z"
    }
   },
   "cell_type": "code",
   "source": [
    "from sklearn.model_selection import train_test_split\n",
    "\n",
    "X_train, X_test, y_train, y_test = train_test_split(X, y, test_size=0.2, random_state=19)  # 80% training and 20% test\n",
    "len(X_train)"
   ],
   "id": "d34a2fc8822874dc",
   "outputs": [
    {
     "data": {
      "text/plain": [
       "2396"
      ]
     },
     "execution_count": 4,
     "metadata": {},
     "output_type": "execute_result"
    }
   ],
   "execution_count": 4
  },
  {
   "metadata": {
    "ExecuteTime": {
     "end_time": "2025-03-25T18:07:42.583672Z",
     "start_time": "2025-03-25T18:07:42.502695Z"
    }
   },
   "cell_type": "code",
   "source": [
    "from sklearn.naive_bayes import MultinomialNB, ComplementNB\n",
    "from sklearn.svm import LinearSVC\n",
    "from sklearn.feature_extraction.text import TfidfVectorizer\n",
    "from sklearn.pipeline import Pipeline\n",
    "from sklearn.metrics import classification_report, accuracy_score\n",
    "import joblib"
   ],
   "id": "9ccdcef07b988ee4",
   "outputs": [],
   "execution_count": 8
  },
  {
   "metadata": {
    "ExecuteTime": {
     "end_time": "2025-03-19T09:00:39.820662Z",
     "start_time": "2025-03-19T09:00:39.817307Z"
    }
   },
   "cell_type": "code",
   "source": [
    "pipeMNB = Pipeline([('tfidf', TfidfVectorizer(stop_words='english')), ('clf', MultinomialNB())])\n",
    "pipeCNB = Pipeline([('tfidf', TfidfVectorizer(stop_words='english')), ('clf', ComplementNB())])\n",
    "pipeSVC = Pipeline([('tfidf', TfidfVectorizer(stop_words='english')), ('clf', LinearSVC())])"
   ],
   "id": "9be16bcce6634536",
   "outputs": [],
   "execution_count": 6
  },
  {
   "metadata": {
    "ExecuteTime": {
     "end_time": "2025-03-19T09:00:40.588394Z",
     "start_time": "2025-03-19T09:00:39.869564Z"
    }
   },
   "cell_type": "code",
   "source": [
    "pipeMNB.fit(X_train, y_train)\n",
    "pipeCNB.fit(X_train, y_train)\n",
    "pipeSVC.fit(X_train, y_train)\n",
    "\n",
    "predictMNB = pipeMNB.predict(X_test)\n",
    "predictCNB = pipeCNB.predict(X_test)\n",
    "predictSVC = pipeSVC.predict(X_test)\n",
    "\n",
    "print(accuracy_score(y_test, predictMNB))\n",
    "print(accuracy_score(y_test, predictCNB))\n",
    "print(accuracy_score(y_test, predictSVC))"
   ],
   "id": "fea01b9b27e75040",
   "outputs": [
    {
     "name": "stdout",
     "output_type": "stream",
     "text": [
      "0.8466666666666667\n",
      "0.88\n",
      "0.9366666666666666\n"
     ]
    }
   ],
   "execution_count": 7
  },
  {
   "metadata": {
    "ExecuteTime": {
     "end_time": "2025-03-25T18:07:44.368111Z",
     "start_time": "2025-03-25T18:07:44.223125Z"
    }
   },
   "cell_type": "code",
   "source": [
    "# joblib.dump(pipeMNB, 'model_mnb.pkl')\n",
    "# joblib.dump(pipeCNB, 'model_cnb.pkl')\n",
    "# joblib.dump(pipeSVC, 'model_svc.pkl')\n",
    "\n",
    "\n",
    "# load back the models\n",
    "pipeMNB = joblib.load('model_mnb.pkl')\n",
    "pipeCNB = joblib.load('model_cnb.pkl')\n",
    "pipeSVC = joblib.load('model_svc.pkl')"
   ],
   "id": "759ffecebd0d289b",
   "outputs": [],
   "execution_count": 9
  },
  {
   "metadata": {
    "ExecuteTime": {
     "end_time": "2025-03-25T18:07:45.887849Z",
     "start_time": "2025-03-25T18:07:45.684860Z"
    }
   },
   "cell_type": "code",
   "source": [
    "X_wipo = df[df['label'] == 'wipo']['text']\n",
    "Y_wipo = df[df['label'] == 'wipo']['label']\n",
    "\n",
    "predict_svc_wipo = pipeSVC.predict(X_wipo)\n",
    "predict_cnb_wipo = pipeCNB.predict(X_wipo)\n",
    "predict_mnb_wipo = pipeMNB.predict(X_wipo)\n",
    "\n",
    "print('Accuracy SVC wipo:', accuracy_score(Y_wipo, predict_svc_wipo))\n",
    "print('Accuracy CNB wipo:', accuracy_score(Y_wipo, predict_cnb_wipo))\n",
    "print('Accuracy MNB wipo:', accuracy_score(Y_wipo, predict_mnb_wipo))"
   ],
   "id": "e8feab8f8fb1bcea",
   "outputs": [
    {
     "name": "stdout",
     "output_type": "stream",
     "text": [
      "Accuracy SVC wipo: 0.99\n",
      "Accuracy CNB wipo: 0.9555555555555556\n",
      "Accuracy MNB wipo: 0.9377777777777778\n"
     ]
    }
   ],
   "execution_count": 10
  }
 ],
 "metadata": {
  "kernelspec": {
   "display_name": "Python 3",
   "language": "python",
   "name": "python3"
  },
  "language_info": {
   "codemirror_mode": {
    "name": "ipython",
    "version": 2
   },
   "file_extension": ".py",
   "mimetype": "text/x-python",
   "name": "python",
   "nbconvert_exporter": "python",
   "pygments_lexer": "ipython2",
   "version": "2.7.6"
  }
 },
 "nbformat": 4,
 "nbformat_minor": 5
}
