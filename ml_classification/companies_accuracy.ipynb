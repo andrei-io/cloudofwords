{
 "cells": [
  {
   "metadata": {
    "ExecuteTime": {
     "end_time": "2025-03-27T16:16:56.389274Z",
     "start_time": "2025-03-27T16:16:56.386720Z"
    }
   },
   "cell_type": "code",
   "source": [
    "import joblib\n",
    "import json\n",
    "from sklearn.metrics import accuracy_score"
   ],
   "id": "ac703c02d75088e6",
   "outputs": [],
   "execution_count": 4
  },
  {
   "metadata": {
    "ExecuteTime": {
     "end_time": "2025-03-27T16:16:56.436926Z",
     "start_time": "2025-03-27T16:16:56.405550Z"
    }
   },
   "cell_type": "code",
   "source": [
    "with open('data_input/ycombinator.json') as f:\n",
    "    ycombinator = json.load(f)\n",
    "\n",
    "X = [company['long_description'] for company in ycombinator]\n",
    "Y = ['crunchbase' for i in range(len(X))]"
   ],
   "id": "e306a48ce52278db",
   "outputs": [],
   "execution_count": 5
  },
  {
   "metadata": {
    "ExecuteTime": {
     "end_time": "2025-03-27T16:16:56.539646Z",
     "start_time": "2025-03-27T16:16:56.455459Z"
    }
   },
   "cell_type": "code",
   "source": [
    "pipeSVC = joblib.load('model_svc.pkl')\n",
    "\n",
    "\n",
    "predict_svc = pipeSVC.predict(X)\n",
    "\n",
    "print('Accuracy SVC ycombinator:', accuracy_score(Y, predict_svc))"
   ],
   "id": "823192e4191cd1eb",
   "outputs": [
    {
     "name": "stdout",
     "output_type": "stream",
     "text": [
      "Accuracy SVC ycombinator: 0.96\n"
     ]
    }
   ],
   "execution_count": 6
  }
 ],
 "metadata": {
  "kernelspec": {
   "display_name": "Python 3",
   "language": "python",
   "name": "python3"
  },
  "language_info": {
   "codemirror_mode": {
    "name": "ipython",
    "version": 2
   },
   "file_extension": ".py",
   "mimetype": "text/x-python",
   "name": "python",
   "nbconvert_exporter": "python",
   "pygments_lexer": "ipython2",
   "version": "2.7.6"
  }
 },
 "nbformat": 4,
 "nbformat_minor": 5
}
