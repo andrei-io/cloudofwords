{
 "cells": [
  {
   "cell_type": "code",
   "id": "initial_id",
   "metadata": {
    "collapsed": true,
    "ExecuteTime": {
     "end_time": "2025-03-15T20:56:25.712326Z",
     "start_time": "2025-03-15T20:56:25.396276Z"
    }
   },
   "source": [
    "import pandas as pd\n",
    "\n",
    "df_unbalanced = pd.read_csv('data.csv')\n",
    "\n",
    "df = df_unbalanced.groupby('label', group_keys=False).apply(\n",
    "    lambda x: x.sample(n=min(len(x), 900), random_state=19)\n",
    ").reset_index(drop=True)  # Reset index to remove unwanted artifacts\n",
    "\n",
    "# Explicitly keep only the original columns to ensure structure is intact\n",
    "df = df[df_unbalanced.columns]\n"
   ],
   "outputs": [
    {
     "name": "stderr",
     "output_type": "stream",
     "text": [
      "/tmp/ipykernel_257611/4082056144.py:5: DeprecationWarning: DataFrameGroupBy.apply operated on the grouping columns. This behavior is deprecated, and in a future version of pandas the grouping columns will be excluded from the operation. Either pass `include_groups=False` to exclude the groupings or explicitly select the grouping columns after groupby to silence this warning.\n",
      "  df = df_unbalanced.groupby('label', group_keys=False).apply(\n"
     ]
    }
   ],
   "execution_count": 53
  },
  {
   "metadata": {
    "ExecuteTime": {
     "end_time": "2025-03-15T20:56:25.722780Z",
     "start_time": "2025-03-15T20:56:25.718080Z"
    }
   },
   "cell_type": "code",
   "source": [
    "X = df['text']\n",
    "y = df['label']\n",
    "len(X)"
   ],
   "id": "3e8274a8e8a18250",
   "outputs": [
    {
     "data": {
      "text/plain": [
       "2996"
      ]
     },
     "execution_count": 54,
     "metadata": {},
     "output_type": "execute_result"
    }
   ],
   "execution_count": 54
  },
  {
   "metadata": {
    "ExecuteTime": {
     "end_time": "2025-03-15T20:56:25.780958Z",
     "start_time": "2025-03-15T20:56:25.773546Z"
    }
   },
   "cell_type": "code",
   "source": [
    "from sklearn.model_selection import train_test_split\n",
    "\n",
    "X_train, X_test, y_train, y_test = train_test_split(X, y, test_size=0.2, random_state=19)  # 80% training and 20% test\n",
    "len(X_train)"
   ],
   "id": "d34a2fc8822874dc",
   "outputs": [
    {
     "data": {
      "text/plain": [
       "2396"
      ]
     },
     "execution_count": 55,
     "metadata": {},
     "output_type": "execute_result"
    }
   ],
   "execution_count": 55
  },
  {
   "metadata": {
    "ExecuteTime": {
     "end_time": "2025-03-15T20:56:25.826093Z",
     "start_time": "2025-03-15T20:56:25.823111Z"
    }
   },
   "cell_type": "code",
   "source": [
    "from sklearn.naive_bayes import MultinomialNB, ComplementNB\n",
    "from sklearn.svm import LinearSVC\n",
    "from sklearn.feature_extraction.text import TfidfVectorizer\n",
    "from sklearn.pipeline import Pipeline\n",
    "from sklearn.metrics import classification_report, accuracy_score"
   ],
   "id": "9ccdcef07b988ee4",
   "outputs": [],
   "execution_count": 56
  },
  {
   "metadata": {
    "ExecuteTime": {
     "end_time": "2025-03-15T20:56:25.874338Z",
     "start_time": "2025-03-15T20:56:25.870283Z"
    }
   },
   "cell_type": "code",
   "source": [
    "pipeMNB = Pipeline([('tfidf', TfidfVectorizer()), ('clf', MultinomialNB())])\n",
    "pipeCNB = Pipeline([('tfidf', TfidfVectorizer()), ('clf', ComplementNB())])\n",
    "pipeSVC = Pipeline([('tfidf', TfidfVectorizer()), ('clf', LinearSVC())])"
   ],
   "id": "9be16bcce6634536",
   "outputs": [],
   "execution_count": 57
  },
  {
   "metadata": {
    "ExecuteTime": {
     "end_time": "2025-03-15T20:56:26.140586Z",
     "start_time": "2025-03-15T20:56:25.920411Z"
    }
   },
   "cell_type": "code",
   "source": [
    "pipeMNB.fit(X_train, y_train)\n",
    "predictMNB = pipeMNB.predict(X_test)\n",
    "accuracy_score(y_test, predictMNB)"
   ],
   "id": "fea01b9b27e75040",
   "outputs": [
    {
     "data": {
      "text/plain": [
       "0.8383333333333334"
      ]
     },
     "execution_count": 58,
     "metadata": {},
     "output_type": "execute_result"
    }
   ],
   "execution_count": 58
  },
  {
   "metadata": {
    "ExecuteTime": {
     "end_time": "2025-03-15T20:59:08.368859Z",
     "start_time": "2025-03-15T20:59:08.363655Z"
    }
   },
   "cell_type": "code",
   "source": [
    "# userText = \"\"\"While working together at Plaid, our founders Julianna and Reed witnessed the security and user-experience shortcomings of dated authentication methods. They saw firsthand the endless frustration experienced by teams — engineers wasting valuable time building authentication solutions instead of focusing on their own product and users suffering the pain of clunky authentication experiences.\n",
    "#\n",
    "# To solve this, they set out to build an all-in-one platform for modern authentication. A full suite of passwordless solutions and password-based auth, rebooted for the modern age.\"\"\"\n",
    "\n",
    "userText = \"\"\"Methods and systems for updating a calendar entry for an accommodation listing are disclosed. In one embodiment, the method comprises generating an availability model and an acceptance model for an accommodation listing in an accommodation reservation system and determining based on those models the probability that the accommodation listing would be able to be booked. Furthermore, the result of an accommodation search query can be filtered and/or sorted using the determined probability of booking.”\"\"\"\n",
    "prediction = pipeMNB.predict([userText])\n",
    "print(prediction)"
   ],
   "id": "759ffecebd0d289b",
   "outputs": [
    {
     "name": "stdout",
     "output_type": "stream",
     "text": [
      "['wipo']\n"
     ]
    }
   ],
   "execution_count": 61
  }
 ],
 "metadata": {
  "kernelspec": {
   "display_name": "Python 3",
   "language": "python",
   "name": "python3"
  },
  "language_info": {
   "codemirror_mode": {
    "name": "ipython",
    "version": 2
   },
   "file_extension": ".py",
   "mimetype": "text/x-python",
   "name": "python",
   "nbconvert_exporter": "python",
   "pygments_lexer": "ipython2",
   "version": "2.7.6"
  }
 },
 "nbformat": 4,
 "nbformat_minor": 5
}
