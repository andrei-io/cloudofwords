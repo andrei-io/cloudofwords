{
 "cells": [
  {
   "metadata": {
    "ExecuteTime": {
     "end_time": "2025-03-27T16:21:40.230648Z",
     "start_time": "2025-03-27T16:21:38.414886Z"
    }
   },
   "cell_type": "code",
   "source": [
    "import json\n",
    "with open('data_input/patents.json') as f:\n",
    "    patents = json.load(f)"
   ],
   "id": "bc037e5a79448ac1",
   "outputs": [],
   "execution_count": 3
  },
  {
   "metadata": {
    "ExecuteTime": {
     "end_time": "2025-03-27T16:21:40.244761Z",
     "start_time": "2025-03-27T16:21:40.237010Z"
    }
   },
   "cell_type": "code",
   "source": [
    "contor_abstract = 0\n",
    "contor_description = 0\n",
    "contor_both = 0\n",
    "for patent in patents:\n",
    "    if not patent.get('description'):\n",
    "        contor_description += 1\n",
    "\n",
    "    if not patent.get('abstract'):\n",
    "        contor_abstract += 1\n",
    "\n",
    "    if not patent.get('abstract') and not patent.get('description'):\n",
    "        contor_both += 1\n",
    "# patents[0]['abstract'][0]['text']\n",
    "print('Number of patents without abstract:', contor_abstract)\n",
    "print('Number of patents without description:', contor_description)\n",
    "print('Number of patents with abstract but without description:', contor_abstract - contor_both)\n",
    "print('Number of patents with description but without abstract:', contor_description - contor_both)\n",
    "print('Number of patents without abstract and description:', contor_both)\n",
    "print('Total number of patents:', len(patents))"
   ],
   "id": "3fdf1d845dd42176",
   "outputs": [
    {
     "name": "stdout",
     "output_type": "stream",
     "text": [
      "Number of patents without abstract: 1302\n",
      "Number of patents without description: 1638\n",
      "Number of patents with abstract but without description: 428\n",
      "Number of patents with description but without abstract: 764\n",
      "Number of patents without abstract and description: 874\n",
      "Total number of patents: 3244\n"
     ]
    }
   ],
   "execution_count": 4
  },
  {
   "metadata": {
    "ExecuteTime": {
     "end_time": "2025-03-27T16:25:51.142561Z",
     "start_time": "2025-03-27T16:25:50.582988Z"
    }
   },
   "cell_type": "code",
   "source": [
    "X_abstract = [patent['abstract'][0]['text'] for patent in patents if patent.get('abstract')]\n",
    "X_description = [patent['description']['text'] for patent in patents if patent.get('description')]\n",
    "Y_abstract = ['wipo' for i in range(len(X_abstract))]\n",
    "Y_description = ['wipo' for i in range(len(X_description))]\n",
    "\n",
    "# print average number of words in abstracts and descriptions\n",
    "average_abstract = sum([len(abstract.split()) for abstract in X_abstract]) / len(X_abstract)\n",
    "average_description = sum([len(description.split()) for description in X_description]) / len(X_description)\n",
    "print('Average number of words in abstracts:', average_abstract)\n",
    "print('Average number of words in descriptions:', average_description)"
   ],
   "id": "48e921c0e22c8cf3",
   "outputs": [
    {
     "name": "stdout",
     "output_type": "stream",
     "text": [
      "Average number of words in abstracts: 124.04273944387229\n",
      "Average number of words in descriptions: 10029.582191780823\n"
     ]
    }
   ],
   "execution_count": 7
  },
  {
   "metadata": {
    "ExecuteTime": {
     "end_time": "2025-03-27T16:21:46.323097Z",
     "start_time": "2025-03-27T16:21:40.355086Z"
    }
   },
   "cell_type": "code",
   "source": [
    "from sklearn.metrics import accuracy_score\n",
    "import joblib\n",
    "\n",
    "pipeSVC = joblib.load('model_svc.pkl')\n",
    "\n",
    "predict_svc_abstracts = pipeSVC.predict(X_abstract)\n",
    "predict_svc_descriptions = pipeSVC.predict(X_description)\n",
    "\n",
    "print('Accuracy SVC abstract:', accuracy_score(Y_abstract, predict_svc_abstracts))\n",
    "print('Accuracy SVC description:', accuracy_score(Y_description, predict_svc_descriptions))"
   ],
   "id": "32d7fd3d1f991832",
   "outputs": [
    {
     "name": "stdout",
     "output_type": "stream",
     "text": [
      "Accuracy SVC abstract: 0.6138002059732235\n",
      "Accuracy SVC description: 0.7316313823163139\n"
     ]
    }
   ],
   "execution_count": 6
  }
 ],
 "metadata": {
  "kernelspec": {
   "display_name": "Python 3",
   "language": "python",
   "name": "python3"
  },
  "language_info": {
   "codemirror_mode": {
    "name": "ipython",
    "version": 2
   },
   "file_extension": ".py",
   "mimetype": "text/x-python",
   "name": "python",
   "nbconvert_exporter": "python",
   "pygments_lexer": "ipython2",
   "version": "2.7.6"
  }
 },
 "nbformat": 4,
 "nbformat_minor": 5
}
